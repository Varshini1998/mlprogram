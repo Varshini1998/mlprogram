{
 "cells": [
  {
   "cell_type": "code",
   "execution_count": 1,
   "metadata": {},
   "outputs": [
    {
     "name": "stdout",
     "output_type": "stream",
     "text": [
      "feature names: ['sepal length (cm)', 'sepal width (cm)', 'petal length (cm)', 'petal width (cm)'] iris names: ['setosa' 'versicolor' 'virginica'] target: [0 0 0 0 0 0 0 0 0 0 0 0 0 0 0 0 0 0 0 0 0 0 0 0 0 0 0 0 0 0 0 0 0 0 0 0 0\n",
      " 0 0 0 0 0 0 0 0 0 0 0 0 0 1 1 1 1 1 1 1 1 1 1 1 1 1 1 1 1 1 1 1 1 1 1 1 1\n",
      " 1 1 1 1 1 1 1 1 1 1 1 1 1 1 1 1 1 1 1 1 1 1 1 1 1 1 2 2 2 2 2 2 2 2 2 2 2\n",
      " 2 2 2 2 2 2 2 2 2 2 2 2 2 2 2 2 2 2 2 2 2 2 2 2 2 2 2 2 2 2 2 2 2 2 2 2 2\n",
      " 2 2]\n",
      "accuracy= 0.9736842105263158\n",
      "predicted data\n",
      "[2 0 1 0 2 1 2 0 2 1 2 0 2 1 1 1 2 2 2 2 0 2 2 1 1 1 0 2 2 2 0 1 1 0 2 1 2\n",
      " 2]\n",
      "test data:\n",
      "[2 0 1 0 2 1 2 0 1 1 2 0 2 1 1 1 2 2 2 2 0 2 2 1 1 1 0 2 2 2 0 1 1 0 2 1 2\n",
      " 2]\n",
      "result is\n",
      "[0 0 0 0 0 0 0 0 1 0 0 0 0 0 0 0 0 0 0 0 0 0 0 0 0 0 0 0 0 0 0 0 0 0 0 0 0\n",
      " 0]\n",
      "total no. of samples missclassified= 1\n"
     ]
    }
   ],
   "source": [
    "#1\n",
    "from sklearn.datasets import load_iris\n",
    "iris=load_iris()\n",
    "print(\"feature names:\",iris.feature_names,\"iris names:\", iris.target_names,\"target:\", iris.target)\n",
    "\n",
    "#2\n",
    "from sklearn.model_selection import train_test_split\n",
    "x_train,x_test,y_train,y_test=train_test_split(iris.data,iris.target,test_size=.25)\n",
    "\n",
    "#3\n",
    "from sklearn.neighbors import KNeighborsClassifier\n",
    "clf=KNeighborsClassifier()\n",
    "clf.fit(x_train,y_train)\n",
    "\n",
    "#4\n",
    "print(\"accuracy=\",clf.score(x_test,y_test))\n",
    "\n",
    "#5\n",
    "print(\"predicted data\")\n",
    "print(clf.predict(x_test))\n",
    "prediction=clf.predict(x_test)\n",
    "print(\"test data:\")\n",
    "print(y_test)\n",
    "\n",
    "#6\n",
    "diff=prediction-y_test\n",
    "print(\"result is\")\n",
    "print(diff)\n",
    "print(\"total no. of samples missclassified=\",sum(abs(diff)))\n",
    "\n"
   ]
  },
  {
   "cell_type": "code",
   "execution_count": null,
   "metadata": {},
   "outputs": [],
   "source": []
  }
 ],
 "metadata": {
  "kernelspec": {
   "display_name": "Python 3",
   "language": "python",
   "name": "python3"
  },
  "language_info": {
   "codemirror_mode": {
    "name": "ipython",
    "version": 3
   },
   "file_extension": ".py",
   "mimetype": "text/x-python",
   "name": "python",
   "nbconvert_exporter": "python",
   "pygments_lexer": "ipython3",
   "version": "3.6.8"
  }
 },
 "nbformat": 4,
 "nbformat_minor": 2
}

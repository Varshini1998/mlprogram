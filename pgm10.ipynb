{
 "cells": [
  {
   "cell_type": "code",
   "execution_count": 1,
   "metadata": {},
   "outputs": [
    {
     "name": "stdout",
     "output_type": "stream",
     "text": [
      "(80, 2)\n"
     ]
    },
    {
     "data": {
      "text/plain": [
       "<Figure size 640x480 with 1 Axes>"
      ]
     },
     "metadata": {},
     "output_type": "display_data"
    }
   ],
   "source": [
    "import numpy as np\n",
    "import pandas as pd\n",
    "import matplotlib.pyplot as plt\n",
    "\n",
    "def kernel(point,xmat,k):\n",
    "    m,n =np.shape(xmat)\n",
    "    weights=np.mat(np.eye((m)))\n",
    "    for j in range(m):\n",
    "        diff=point-x[j]\n",
    "        weights[j,j]=np.exp(diff*diff.T/(-20*k**2))\n",
    "    return weights\n",
    "\n",
    "def localweight(point,xmat,ymat,k):\n",
    "    wei=kernel(point,xmat,k)\n",
    "    w=(x.T*(wei*x)).I*(x.T*(wei*ymat.T))\n",
    "    return w\n",
    "\n",
    "def localweightregression(xmat,ymat,k):\n",
    "    m,n=np.shape(xmat)\n",
    "    ypred=np.zeros(m)\n",
    "    for i in range(m):\n",
    "        ypred[i]=xmat[i]*localweight(xmat[i],xmat,ymat,k)\n",
    "    return ypred\n",
    "\n",
    "data=pd.read_csv('LR.csv')\n",
    "colA=np.array(data.colA)\n",
    "colB=np.array(data.colB)\n",
    "\n",
    "mcolA=np.mat(colA)\n",
    "mcolB=np.mat(colB)\n",
    "m=np.shape(mcolA)[1]\n",
    "one=np.ones((1,m),dtype=int)\n",
    "x=np.hstack((one.T,mcolA.T))\n",
    "print(x.shape)\n",
    "\n",
    "ypred=localweigh tregression(x,mcolB,0.2)\n",
    "sortindex=x[:,1].argsort(0)\n",
    "xsort=x[sortindex][:,0]\n",
    "\n",
    "fig=plt.figure()\n",
    "ax=fig.add_subplot(1,1,1)\n",
    "ax.scatter(colA,colB,color='green')\n",
    "ax.plot(xsort[:,1],ypred[sortindex],color='red',linewidth=5)\n",
    "plt.xlabel=('colA')\n",
    "plt.ylabel=('colB')\n",
    "plt.show();"
   ]
  },
  {
   "cell_type": "code",
   "execution_count": null,
   "metadata": {},
   "outputs": [],
   "source": []
  }
 ],
 "metadata": {
  "kernelspec": {
   "display_name": "Python 3",
   "language": "python",
   "name": "python3"
  },
  "language_info": {
   "codemirror_mode": {
    "name": "ipython",
    "version": 3
   },
   "file_extension": ".py",
   "mimetype": "text/x-python",
   "name": "python",
   "nbconvert_exporter": "python",
   "pygments_lexer": "ipython3",
   "version": "3.6.8"
  }
 },
 "nbformat": 4,
 "nbformat_minor": 2
}

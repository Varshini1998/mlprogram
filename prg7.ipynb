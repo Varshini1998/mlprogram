{
 "cells": [
  {
   "cell_type": "code",
   "execution_count": 2,
   "metadata": {},
   "outputs": [
    {
     "name": "stdout",
     "output_type": "stream",
     "text": [
      "Few examples from the dataset are given below\n",
      "    age  sex   cp  trestbps   chol  fbs  restecg  thalach  exang  oldpeak  \\\n",
      "0  63.0  1.0  1.0     145.0  233.0  1.0      2.0    150.0    0.0      2.3   \n",
      "1  67.0  1.0  4.0     160.0  286.0  0.0      2.0    108.0    1.0      1.5   \n",
      "2  67.0  1.0  4.0     120.0  229.0  0.0      2.0    129.0    1.0      2.6   \n",
      "3  37.0  1.0  3.0     130.0  250.0  0.0      0.0    187.0    0.0      3.5   \n",
      "4  41.0  0.0  2.0     130.0  204.0  0.0      2.0    172.0    0.0      1.4   \n",
      "\n",
      "   slope   ca thal  heartdisease  \n",
      "0    3.0  0.0  6.0             0  \n",
      "1    2.0  3.0  3.0             2  \n",
      "2    2.0  2.0  7.0             1  \n",
      "3    3.0  0.0  3.0             0  \n",
      "4    1.0  0.0  3.0             0  \n",
      "\n",
      "Attributes and datatypes\n",
      "age             float64\n",
      "sex             float64\n",
      "cp              float64\n",
      "trestbps        float64\n",
      "chol            float64\n",
      "fbs             float64\n",
      "restecg         float64\n",
      "thalach         float64\n",
      "exang           float64\n",
      "oldpeak         float64\n",
      "slope           float64\n",
      "ca               object\n",
      "thal             object\n",
      "heartdisease      int64\n",
      "dtype: object\n",
      "\n",
      " Learning CpDs using Maximum likelihood Estimatiors...\n"
     ]
    },
    {
     "name": "stderr",
     "output_type": "stream",
     "text": [
      "/home/jayesh/.local/lib/python3.6/site-packages/pgmpy/estimators/base.py:54: FutureWarning: \n",
      ".ix is deprecated. Please use\n",
      ".loc for label based indexing or\n",
      ".iloc for positional indexing\n",
      "\n",
      "See the documentation here:\n",
      "http://pandas.pydata.org/pandas-docs/stable/user_guide/indexing.html#ix-indexer-is-deprecated\n",
      "  states = sorted(list(self.data.ix[:, variable].dropna().unique()))\n",
      "/home/jayesh/.local/lib/python3.6/site-packages/pgmpy/estimators/base.py:116: FutureWarning: \n",
      ".ix is deprecated. Please use\n",
      ".loc for label based indexing or\n",
      ".iloc for positional indexing\n",
      "\n",
      "See the documentation here:\n",
      "http://pandas.pydata.org/pandas-docs/stable/user_guide/indexing.html#ix-indexer-is-deprecated\n",
      "  state_count_data = data.ix[:, variable].value_counts()\n",
      "/home/jayesh/.local/lib/python3.6/site-packages/pgmpy/estimators/MLE.py:128: FutureWarning: \n",
      ".ix is deprecated. Please use\n",
      ".loc for label based indexing or\n",
      ".iloc for positional indexing\n",
      "\n",
      "See the documentation here:\n",
      "http://pandas.pydata.org/pandas-docs/stable/user_guide/indexing.html#ix-indexer-is-deprecated\n",
      "  state_counts.ix[:, (state_counts == 0).all()] = 1\n"
     ]
    },
    {
     "name": "stdout",
     "output_type": "stream",
     "text": [
      "\n",
      " Inferencing with Bayesian Network: \n",
      "\n",
      " 1.Probability of heratdiseases given Age=28\n",
      "+----------------+---------------------+\n",
      "| heartdisease   |   phi(heartdisease) |\n",
      "+================+=====================+\n",
      "| heartdisease_0 |              0.4432 |\n",
      "+----------------+---------------------+\n",
      "| heartdisease_1 |              0.2683 |\n",
      "+----------------+---------------------+\n",
      "| heartdisease_2 |              0.0787 |\n",
      "+----------------+---------------------+\n",
      "| heartdisease_3 |              0.1241 |\n",
      "+----------------+---------------------+\n",
      "| heartdisease_4 |              0.0857 |\n",
      "+----------------+---------------------+\n",
      "\n",
      " 2.Probalility of heartdisease given cholesttol=100\n",
      "+----------------+---------------------+\n",
      "| heartdisease   |   phi(heartdisease) |\n",
      "+================+=====================+\n",
      "| heartdisease_0 |              1.0000 |\n",
      "+----------------+---------------------+\n",
      "| heartdisease_1 |              0.0000 |\n",
      "+----------------+---------------------+\n",
      "| heartdisease_2 |              0.0000 |\n",
      "+----------------+---------------------+\n",
      "| heartdisease_3 |              0.0000 |\n",
      "+----------------+---------------------+\n",
      "| heartdisease_4 |              0.0000 |\n",
      "+----------------+---------------------+\n"
     ]
    },
    {
     "name": "stderr",
     "output_type": "stream",
     "text": [
      "/home/jayesh/.local/lib/python3.6/site-packages/pgmpy/factors/discrete/DiscreteFactor.py:598: FutureWarning: Using a non-tuple sequence for multidimensional indexing is deprecated; use `arr[tuple(seq)]` instead of `arr[seq]`. In the future this will be interpreted as an array index, `arr[np.array(seq)]`, which will result either in an error or a different result.\n",
      "  phi1.values = phi1.values[slice_]\n",
      "/home/jayesh/.local/lib/python3.6/site-packages/pgmpy/factors/discrete/DiscreteFactor.py:586: FutureWarning: Using a non-tuple sequence for multidimensional indexing is deprecated; use `arr[tuple(seq)]` instead of `arr[seq]`. In the future this will be interpreted as an array index, `arr[np.array(seq)]`, which will result either in an error or a different result.\n",
      "  phi.values = phi.values[slice_]\n"
     ]
    }
   ],
   "source": [
    "import numpy as np\n",
    "import pandas as pd\n",
    "import csv\n",
    "from pgmpy.estimators import MaximumLikelihoodEstimator\n",
    "from pgmpy.models import BayesianModel\n",
    "from pgmpy.inference import VariableElimination\n",
    "lines = list(csv.reader(open('data7th_names.csv', 'r')));\n",
    "attributes = lines[0]\n",
    "heartDisease = pd.read_csv('data7th_heart.csv', names = attributes)\n",
    "heartDisease = heartDisease.replace('?', np.nan)\n",
    "print('Few examples from the dataset are given below')\n",
    "print(heartDisease.head())\n",
    "print('\\nAttributes and datatypes')\n",
    "print(heartDisease.dtypes)\n",
    "model = BayesianModel([('age', 'trestbps'), ('age', 'fbs'), ('sex', 'trestbps'),('exang', 'trestbps'),('trestbps','heartdisease'),('fbs','heartdisease'),\n",
    "('heartdisease','restecg'),('heartdisease','thal'),('heartdisease','chol')])\n",
    "print('\\n Learning CpDs using Maximum likelihood Estimatiors...');\n",
    "model.fit(heartDisease,estimator=MaximumLikelihoodEstimator)\n",
    "print('\\n Inferencing with Bayesian Network: ')\n",
    "HeartDisease_infer=VariableElimination(model)\n",
    "print('\\n 1.Probability of heratdiseases given Age=28')\n",
    "q=HeartDisease_infer.query(variables=['heartdisease'],evidence={'age':40})\n",
    "print(q['heartdisease'])\n",
    "print('\\n 2.Probalility of heartdisease given cholesttol=100')\n",
    "q=q=HeartDisease_infer.query(variables=['heartdisease'],evidence={'chol':100})\n",
    "print(q['heartdisease'])"
   ]
  },
  {
   "cell_type": "code",
   "execution_count": null,
   "metadata": {},
   "outputs": [],
   "source": []
  },
  {
   "cell_type": "code",
   "execution_count": null,
   "metadata": {},
   "outputs": [],
   "source": []
  },
  {
   "cell_type": "code",
   "execution_count": null,
   "metadata": {},
   "outputs": [],
   "source": []
  },
  {
   "cell_type": "code",
   "execution_count": null,
   "metadata": {},
   "outputs": [],
   "source": []
  }
 ],
 "metadata": {
  "kernelspec": {
   "display_name": "Python 3",
   "language": "python",
   "name": "python3"
  },
  "language_info": {
   "codemirror_mode": {
    "name": "ipython",
    "version": 3
   },
   "file_extension": ".py",
   "mimetype": "text/x-python",
   "name": "python",
   "nbconvert_exporter": "python",
   "pygments_lexer": "ipython3",
   "version": "3.6.8"
  }
 },
 "nbformat": 4,
 "nbformat_minor": 2
}
